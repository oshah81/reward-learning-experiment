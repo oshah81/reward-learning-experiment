{
 "cells": [
  {
   "cell_type": "markdown",
   "metadata": {},
   "source": [
    "# Interpreting the json data for the paradigm #\n",
    "\n",
    "Set the export filename and the row you want to extract here."
   ]
  },
  {
   "cell_type": "code",
   "execution_count": 1,
   "metadata": {},
   "outputs": [],
   "source": [
    "EXPORT_FILENAME = \"../data/Complete-R_1pEtRZqANLuT9P4-2021-04-10T07_17_16_380Z.json\"\n",
    "AUXILIARY_REPORT = \"Apprendimento motorio e anticipazione di ricompense in pazienti con Parkinson_June 2, 2021_08.35.xml\"\n",
    "AUXILIARY_REPORT2 = \"Investigating the relationship between reward prediction and learning_June 2, 2021_08.34.xml\"\n"
   ]
  },
  {
   "cell_type": "markdown",
   "metadata": {},
   "source": [
    "## Code Setup ##"
   ]
  },
  {
   "cell_type": "markdown",
   "metadata": {},
   "source": [
    "This script mostly relies on `json` and `pandas` for data display. `numpy` is used for the mean function. `csv` and `xml` are used for the file parsing."
   ]
  },
  {
   "cell_type": "code",
   "execution_count": 2,
   "metadata": {},
   "outputs": [],
   "source": [
    "import numpy as np\n",
    "import pandas as pd\n",
    "import math\n",
    "import json\n",
    "import csv\n",
    "import xml.etree.ElementTree as ET\n",
    "import matplotlib.pyplot as plt\n",
    "\n",
    "GAME_SCREEN = 19\n",
    "POINTS_PER_ROUND = 10\n",
    "ROUND_NUM_CORRECTION = 2\n",
    "NUM_ROUNDS = 180"
   ]
  },
  {
   "cell_type": "code",
   "execution_count": 3,
   "metadata": {},
   "outputs": [],
   "source": [
    "def try_float(num):\n",
    "    try:\n",
    "        float(num)\n",
    "    except TypeError:\n",
    "        print(f\"{num}\")\n",
    "        return math.nan\n"
   ]
  },
  {
   "cell_type": "markdown",
   "metadata": {},
   "source": [
    "### Reading the Export Data ###\n",
    "For English, read off finished, _recordId and QID44_TEXT. pdYear will be recorded as None for all participants"
   ]
  },
  {
   "cell_type": "code",
   "execution_count": 4,
   "metadata": {},
   "outputs": [],
   "source": [
    "participant_data = []\n",
    "\n",
    "tree = ET.parse(AUXILIARY_REPORT2)\n",
    "\n",
    "root = tree.getroot()\n",
    "for row in tree.findall(\"Response\"):\n",
    "    record = {}\n",
    "    record[\"finished\"] = row.find(\"finished\").text == \"True\"\n",
    "\n",
    "    record[\"isPD\"] = False\n",
    "    record[\"pdYear\"] = None\n",
    "\n",
    "    qid44Node = row.find(\"QID44_TEXT\")\n",
    "    record[\"age\"] = None if qid44Node is None else qid44Node.text\n",
    "\n",
    "    record[\"id\"] = row.find(\"_recordId\").text\n",
    "    record[\"lang\"] = \"EN\"\n",
    "\n",
    "    participant_data.append(record)\n"
   ]
  },
  {
   "cell_type": "markdown",
   "metadata": {},
   "source": [
    "### Reading XML exports ###\n",
    "For Italian, read off finished, QID7, QID8_TEXT, QID16_TEXT, and _recordId"
   ]
  },
  {
   "cell_type": "code",
   "execution_count": 5,
   "metadata": {},
   "outputs": [],
   "source": [
    "tree = ET.parse(AUXILIARY_REPORT)\n",
    "\n",
    "root = tree.getroot()\n",
    "for row in tree.findall(\"Response\"):\n",
    "    record = {}\n",
    "    record[\"finished\"] = row.find(\"finished\").text == \"True\"\n",
    "\n",
    "    PdPositive = row.find(\"QID7\")\n",
    "    record[\"isPD\"] = None if PdPositive is None else PdPositive.text == \"Si\"\n",
    "\n",
    "    qid8Node = row.find(\"QID8_TEXT\")\n",
    "    record[\"pdYear\"] = None if qid8Node is None else qid8Node.text\n",
    "\n",
    "    qid16Node = row.find(\"QID16_TEXT\")\n",
    "    record[\"age\"] = None if qid16Node is None else qid16Node.text\n",
    "\n",
    "    record[\"id\"] = row.find(\"_recordId\").text\n",
    "    record[\"lang\"] = \"IT\"\n",
    "\n",
    "    participant_data.append(record)\n"
   ]
  },
  {
   "cell_type": "markdown",
   "metadata": {},
   "source": [
    "We split each participant into the three groups specified in the study design: Young, Old and PD."
   ]
  },
  {
   "cell_type": "code",
   "execution_count": 53,
   "metadata": {},
   "outputs": [],
   "source": [
    "young      = pd.DataFrame([x[\"id\"] for x in participant_data if x[\"finished\"] and x[\"age\"] is not None and int(x[\"age\"]) < 40])\n",
    "old        = pd.DataFrame([x[\"id\"] for x in participant_data if x[\"finished\"] and x[\"age\"] is not None and int(x[\"age\"]) > 59])\n",
    "parkinsons = pd.DataFrame([x[\"id\"] for x in participant_data if x[\"finished\"] and x[\"isPD\"]])"
   ]
  },
  {
   "cell_type": "code",
   "execution_count": 58,
   "metadata": {},
   "outputs": [],
   "source": [
    "# pd.DataFrame(participant_data)"
   ]
  },
  {
   "cell_type": "markdown",
   "metadata": {},
   "source": [
    "### Direct JSON export ###\n",
    "If you're reading directly from a json file, use this code."
   ]
  },
  {
   "cell_type": "code",
   "execution_count": 7,
   "metadata": {},
   "outputs": [],
   "source": [
    "if EXPORT_FILENAME.endswith('.json'):\n",
    "    with open(EXPORT_FILENAME) as jso:\n",
    "        s = json.load(jso)\n"
   ]
  },
  {
   "cell_type": "markdown",
   "metadata": {},
   "source": [
    "### Linking the active Participant data ###\n"
   ]
  },
  {
   "cell_type": "code",
   "execution_count": 8,
   "metadata": {},
   "outputs": [
    {
     "data": {
      "text/plain": [
       "[{'finished': True,\n",
       "  'isPD': False,\n",
       "  'pdYear': None,\n",
       "  'age': '29',\n",
       "  'id': 'R_1pEtRZqANLuT9P4',\n",
       "  'lang': 'EN'}]"
      ]
     },
     "execution_count": 8,
     "metadata": {},
     "output_type": "execute_result"
    }
   ],
   "source": [
    "activeId = s['id']\n",
    "active_participant = [x for x in participant_data if x[\"id\"] == activeId]\n",
    "\n",
    "active_participant"
   ]
  },
  {
   "cell_type": "markdown",
   "metadata": {},
   "source": [
    "## Probability contingencies ##\n",
    "\n",
    "This code returns the results of each round, and includes the underlying probabilities which led to that decision."
   ]
  },
  {
   "cell_type": "code",
   "execution_count": 9,
   "metadata": {},
   "outputs": [],
   "source": [
    "# Gets the score result of each round\n",
    "roundResult = []\n",
    "\n",
    "score = 0\n",
    "for i in range(0, len(s['eventLog'])):\n",
    "    # We'll need the current row and the row preceding it to get all the data we need\n",
    "    entry = s['eventLog'][i]\n",
    "    previousEntry = s['eventLog'][i-1]\n",
    "\n",
    "    # Focus on winRound, lostRound, incorrectPlay and timedOut rows only\n",
    "    if entry['type'] == 'winRound' or entry['type'] == 'lostRound':\n",
    "        if entry['type'] == 'winRound':\n",
    "            score += POINTS_PER_ROUND\n",
    "        # The sequence chosen must be obtained from the previous row\n",
    "        # Where the sequenced is assessed, we can find the probability contingencies in the activeProbability,\n",
    "        # unchosenProbability and mcsScore fields\n",
    "        row = dict({\n",
    "            'round': entry['trial'] - ROUND_NUM_CORRECTION,\n",
    "            'type': entry['type'],\n",
    "            'sequence': previousEntry['sequence'] if 'sequence' in previousEntry else None,\n",
    "            'probability1': entry['activeProbability'] if 'activeProbability' in entry else None,\n",
    "            'probability2': entry['unchosenProbability'] if 'unchosenProbability' in entry else None,\n",
    "            'urn': entry['mcsScore'],\n",
    "            'score': score\n",
    "        })\n",
    "        roundResult.append(row)\n",
    "    elif entry['type'] == 'incorrectPlay' or entry['type'] == 'timedOut':\n",
    "        row = dict({\n",
    "            'round': entry['trial'] - ROUND_NUM_CORRECTION,\n",
    "            'type': entry['type'],\n",
    "            'sequence': previousEntry['sequence'] if 'sequence' in previousEntry else None,\n",
    "            'probability1': None,\n",
    "            'probability2': None,\n",
    "            'urn': None,\n",
    "            'score': score\n",
    "        })\n",
    "        \n",
    "        roundResult.append(row)\n",
    "\n",
    "roundResultDataFrame = pd.DataFrame(roundResult)"
   ]
  },
  {
   "cell_type": "markdown",
   "metadata": {},
   "source": [
    "#### Output ####\n",
    "* If the round ended in `incorrectPlay` or `timedOut`, the player always loses.\n",
    "* `probability1` holds the probability sequence 1 was the winner and `probability2` holds the probability sequence 2 was the winner.\n",
    "* `urn` holds the random score which determines whether the player won the round or lost it."
   ]
  },
  {
   "cell_type": "code",
   "execution_count": 10,
   "metadata": {},
   "outputs": [
    {
     "data": {
      "text/html": [
       "<div>\n",
       "<style scoped>\n",
       "    .dataframe tbody tr th:only-of-type {\n",
       "        vertical-align: middle;\n",
       "    }\n",
       "\n",
       "    .dataframe tbody tr th {\n",
       "        vertical-align: top;\n",
       "    }\n",
       "\n",
       "    .dataframe thead th {\n",
       "        text-align: right;\n",
       "    }\n",
       "</style>\n",
       "<table border=\"1\" class=\"dataframe\">\n",
       "  <thead>\n",
       "    <tr style=\"text-align: right;\">\n",
       "      <th></th>\n",
       "      <th>round</th>\n",
       "      <th>type</th>\n",
       "      <th>sequence</th>\n",
       "      <th>probability1</th>\n",
       "      <th>probability2</th>\n",
       "      <th>urn</th>\n",
       "      <th>score</th>\n",
       "    </tr>\n",
       "  </thead>\n",
       "  <tbody>\n",
       "    <tr>\n",
       "      <th>0</th>\n",
       "      <td>0</td>\n",
       "      <td>winRound</td>\n",
       "      <td>gjhk</td>\n",
       "      <td>0.9</td>\n",
       "      <td>0.1</td>\n",
       "      <td>0.183458</td>\n",
       "      <td>10</td>\n",
       "    </tr>\n",
       "    <tr>\n",
       "      <th>1</th>\n",
       "      <td>1</td>\n",
       "      <td>timedOut</td>\n",
       "      <td>None</td>\n",
       "      <td>NaN</td>\n",
       "      <td>NaN</td>\n",
       "      <td>NaN</td>\n",
       "      <td>10</td>\n",
       "    </tr>\n",
       "    <tr>\n",
       "      <th>2</th>\n",
       "      <td>2</td>\n",
       "      <td>winRound</td>\n",
       "      <td>gjhk</td>\n",
       "      <td>0.9</td>\n",
       "      <td>0.1</td>\n",
       "      <td>0.391314</td>\n",
       "      <td>20</td>\n",
       "    </tr>\n",
       "    <tr>\n",
       "      <th>3</th>\n",
       "      <td>3</td>\n",
       "      <td>timedOut</td>\n",
       "      <td>None</td>\n",
       "      <td>NaN</td>\n",
       "      <td>NaN</td>\n",
       "      <td>NaN</td>\n",
       "      <td>20</td>\n",
       "    </tr>\n",
       "    <tr>\n",
       "      <th>4</th>\n",
       "      <td>4</td>\n",
       "      <td>lostRound</td>\n",
       "      <td>kgjh</td>\n",
       "      <td>0.9</td>\n",
       "      <td>0.1</td>\n",
       "      <td>0.635858</td>\n",
       "      <td>20</td>\n",
       "    </tr>\n",
       "    <tr>\n",
       "      <th>...</th>\n",
       "      <td>...</td>\n",
       "      <td>...</td>\n",
       "      <td>...</td>\n",
       "      <td>...</td>\n",
       "      <td>...</td>\n",
       "      <td>...</td>\n",
       "      <td>...</td>\n",
       "    </tr>\n",
       "    <tr>\n",
       "      <th>175</th>\n",
       "      <td>175</td>\n",
       "      <td>lostRound</td>\n",
       "      <td>kgjh</td>\n",
       "      <td>0.5</td>\n",
       "      <td>0.5</td>\n",
       "      <td>0.050793</td>\n",
       "      <td>1090</td>\n",
       "    </tr>\n",
       "    <tr>\n",
       "      <th>176</th>\n",
       "      <td>176</td>\n",
       "      <td>lostRound</td>\n",
       "      <td>gjhk</td>\n",
       "      <td>0.5</td>\n",
       "      <td>0.5</td>\n",
       "      <td>0.936219</td>\n",
       "      <td>1090</td>\n",
       "    </tr>\n",
       "    <tr>\n",
       "      <th>177</th>\n",
       "      <td>177</td>\n",
       "      <td>winRound</td>\n",
       "      <td>kgjh</td>\n",
       "      <td>0.5</td>\n",
       "      <td>0.5</td>\n",
       "      <td>0.643075</td>\n",
       "      <td>1100</td>\n",
       "    </tr>\n",
       "    <tr>\n",
       "      <th>178</th>\n",
       "      <td>178</td>\n",
       "      <td>lostRound</td>\n",
       "      <td>kgjh</td>\n",
       "      <td>0.5</td>\n",
       "      <td>0.5</td>\n",
       "      <td>0.274230</td>\n",
       "      <td>1100</td>\n",
       "    </tr>\n",
       "    <tr>\n",
       "      <th>179</th>\n",
       "      <td>179</td>\n",
       "      <td>lostRound</td>\n",
       "      <td>gjhk</td>\n",
       "      <td>0.5</td>\n",
       "      <td>0.5</td>\n",
       "      <td>0.775439</td>\n",
       "      <td>1100</td>\n",
       "    </tr>\n",
       "  </tbody>\n",
       "</table>\n",
       "<p>180 rows × 7 columns</p>\n",
       "</div>"
      ],
      "text/plain": [
       "     round       type sequence  probability1  probability2       urn  score\n",
       "0        0   winRound     gjhk           0.9           0.1  0.183458     10\n",
       "1        1   timedOut     None           NaN           NaN       NaN     10\n",
       "2        2   winRound     gjhk           0.9           0.1  0.391314     20\n",
       "3        3   timedOut     None           NaN           NaN       NaN     20\n",
       "4        4  lostRound     kgjh           0.9           0.1  0.635858     20\n",
       "..     ...        ...      ...           ...           ...       ...    ...\n",
       "175    175  lostRound     kgjh           0.5           0.5  0.050793   1090\n",
       "176    176  lostRound     gjhk           0.5           0.5  0.936219   1090\n",
       "177    177   winRound     kgjh           0.5           0.5  0.643075   1100\n",
       "178    178  lostRound     kgjh           0.5           0.5  0.274230   1100\n",
       "179    179  lostRound     gjhk           0.5           0.5  0.775439   1100\n",
       "\n",
       "[180 rows x 7 columns]"
      ]
     },
     "execution_count": 10,
     "metadata": {},
     "output_type": "execute_result"
    }
   ],
   "source": [
    "roundResultDataFrame"
   ]
  },
  {
   "cell_type": "markdown",
   "metadata": {},
   "source": [
    "## Interstroke key timings for all rounds ##\n",
    "\n",
    "This code returns the interstroke key time for all rounds."
   ]
  },
  {
   "cell_type": "code",
   "execution_count": 11,
   "metadata": {},
   "outputs": [],
   "source": [
    "timingarray = []\n",
    "lastTimestamp = None\n",
    "currentTimestampBucket = []\n",
    "timelist = []\n",
    "\n",
    "for entry in (x for x in s['eventLog'] if x['round'] == GAME_SCREEN):\n",
    "    if entry['type'] == 'startNextRound':\n",
    "\n",
    "        if (len(currentTimestampBucket) == 0):\n",
    "            if len(timingarray) == 0:\n",
    "                continue\n",
    "            row = dict({'screen': entry['round'], 'round': entry['trial'] - ROUND_NUM_CORRECTION, 'timings': None, 'timestamps': None, 'meankeystrokeinterval': None })\n",
    "        else:\n",
    "            meanval = np.nanmean(currentTimestampBucket)\n",
    "            probabilityRow = roundResultDataFrame[roundResultDataFrame[\"round\"] == entry[\"trial\"] - ROUND_NUM_CORRECTION]\n",
    "            probability = float(probabilityRow[\"probability1\"])\n",
    "\n",
    "            row = dict({\n",
    "                'screen': entry['round'],\n",
    "                'round': entry['trial'] - ROUND_NUM_CORRECTION,\n",
    "                \"probability\": probability,\n",
    "                'timings': currentTimestampBucket.copy(),\n",
    "                'timestamps': timelist.copy(),\n",
    "                'meankeystrokeinterval': meanval,\n",
    "            })\n",
    "        timingarray.append(row)\n",
    "        lastTimestamp = None\n",
    "        currentTimestampBucket.clear()\n",
    "        timelist.clear()\n",
    "    elif entry['type'] == 'keydown':\n",
    "        if lastTimestamp is not None:\n",
    "            currentTimestampBucket.append(entry['time'] - lastTimestamp)\n",
    "        timelist.append(entry['time'])\n",
    "        lastTimestamp = entry['time']\n",
    "\n",
    "        \n",
    "# Now record information for the final round\n",
    "if (len(currentTimestampBucket) == 0):\n",
    "    if len(timingarray) != 0:\n",
    "        row = dict({'screen': entry['round'], 'round': NUM_ROUNDS, 'timings': None, 'timestamps': None, 'meankeystrokeinterval': None })\n",
    "    timingarray.append(row)\n",
    "else:\n",
    "    meanval = np.nanmean(currentTimestampBucket)\n",
    "    probabilityRow = roundResultDataFrame[roundResultDataFrame[\"round\"] == NUM_ROUNDS - 1]\n",
    "    probability = float(probabilityRow[\"probability1\"])\n",
    "\n",
    "    row = dict({\n",
    "        'screen': entry['round'],\n",
    "        'round': NUM_ROUNDS,\n",
    "        \"probability\": probability,\n",
    "        'timings': currentTimestampBucket.copy(),\n",
    "        'timestamps': timelist.copy(),\n",
    "        'meankeystrokeinterval': meanval,\n",
    "    })\n",
    "    timingarray.append(row)\n",
    "\n",
    "# Finally convert everything into a dataframe\n",
    "timingdata = pd.DataFrame(timingarray)"
   ]
  },
  {
   "cell_type": "markdown",
   "metadata": {},
   "source": [
    "#### Output ####\n",
    "* `screen` is fixed and equal to the GAME_SCREEN\n",
    "* `round` indicates the round of the experiment (out of 180)\n",
    "* `timings` is an array holding the set of raw timings (in ms) between each keystroke, from which\n",
    "* `timestamps` are the raw timestamps from the browser from which `timings` is calculated (it is the time in ms since page load)\n",
    "* meankeystrokeinterval is the mean timings between each keydown stroke in the round, also known as the interstroke interval\n"
   ]
  },
  {
   "cell_type": "code",
   "execution_count": 12,
   "metadata": {},
   "outputs": [
    {
     "data": {
      "text/html": [
       "<div>\n",
       "<style scoped>\n",
       "    .dataframe tbody tr th:only-of-type {\n",
       "        vertical-align: middle;\n",
       "    }\n",
       "\n",
       "    .dataframe tbody tr th {\n",
       "        vertical-align: top;\n",
       "    }\n",
       "\n",
       "    .dataframe thead th {\n",
       "        text-align: right;\n",
       "    }\n",
       "</style>\n",
       "<table border=\"1\" class=\"dataframe\">\n",
       "  <thead>\n",
       "    <tr style=\"text-align: right;\">\n",
       "      <th></th>\n",
       "      <th>screen</th>\n",
       "      <th>round</th>\n",
       "      <th>probability</th>\n",
       "      <th>timings</th>\n",
       "      <th>timestamps</th>\n",
       "      <th>meankeystrokeinterval</th>\n",
       "    </tr>\n",
       "  </thead>\n",
       "  <tbody>\n",
       "    <tr>\n",
       "      <th>0</th>\n",
       "      <td>19</td>\n",
       "      <td>1</td>\n",
       "      <td>NaN</td>\n",
       "      <td>[577.919999952428, 469.48000008706003, 476.589...</td>\n",
       "      <td>[983444.3500000052, 984022.2699999576, 984491....</td>\n",
       "      <td>507.996667</td>\n",
       "    </tr>\n",
       "    <tr>\n",
       "      <th>1</th>\n",
       "      <td>19</td>\n",
       "      <td>2</td>\n",
       "      <td>0.9</td>\n",
       "      <td>[505.34500007051975]</td>\n",
       "      <td>[996621.204999974, 997126.5500000445]</td>\n",
       "      <td>505.345000</td>\n",
       "    </tr>\n",
       "    <tr>\n",
       "      <th>2</th>\n",
       "      <td>19</td>\n",
       "      <td>3</td>\n",
       "      <td>NaN</td>\n",
       "      <td>[483.33000007551163, 407.84499992150813, 397.3...</td>\n",
       "      <td>[1007773.3399999561, 1008256.6700000316, 10086...</td>\n",
       "      <td>429.498333</td>\n",
       "    </tr>\n",
       "    <tr>\n",
       "      <th>3</th>\n",
       "      <td>19</td>\n",
       "      <td>4</td>\n",
       "      <td>0.9</td>\n",
       "      <td>[996.5699999593198]</td>\n",
       "      <td>[1023797.7950000204, 1024794.3649999797]</td>\n",
       "      <td>996.570000</td>\n",
       "    </tr>\n",
       "    <tr>\n",
       "      <th>4</th>\n",
       "      <td>19</td>\n",
       "      <td>5</td>\n",
       "      <td>0.9</td>\n",
       "      <td>[603.4399999771267, 401.77500003483146, 455.04...</td>\n",
       "      <td>[1031368.6699999962, 1031972.1099999733, 10323...</td>\n",
       "      <td>486.751667</td>\n",
       "    </tr>\n",
       "    <tr>\n",
       "      <th>...</th>\n",
       "      <td>...</td>\n",
       "      <td>...</td>\n",
       "      <td>...</td>\n",
       "      <td>...</td>\n",
       "      <td>...</td>\n",
       "      <td>...</td>\n",
       "    </tr>\n",
       "    <tr>\n",
       "      <th>175</th>\n",
       "      <td>19</td>\n",
       "      <td>176</td>\n",
       "      <td>0.5</td>\n",
       "      <td>[386.39999995939434, 367.35000007320195, 354.8...</td>\n",
       "      <td>[1923151.034999988, 1923537.4349999474, 192390...</td>\n",
       "      <td>369.545000</td>\n",
       "    </tr>\n",
       "    <tr>\n",
       "      <th>176</th>\n",
       "      <td>19</td>\n",
       "      <td>177</td>\n",
       "      <td>0.5</td>\n",
       "      <td>[365.955000044778, 350.31999996863306, 293.905...</td>\n",
       "      <td>[1927767.0849999413, 1928133.039999986, 192848...</td>\n",
       "      <td>336.726667</td>\n",
       "    </tr>\n",
       "    <tr>\n",
       "      <th>177</th>\n",
       "      <td>19</td>\n",
       "      <td>178</td>\n",
       "      <td>0.5</td>\n",
       "      <td>[354.97500002384186, 305.835000006482, 340.089...</td>\n",
       "      <td>[1932434.3599999556, 1932789.3349999795, 19330...</td>\n",
       "      <td>333.633333</td>\n",
       "    </tr>\n",
       "    <tr>\n",
       "      <th>178</th>\n",
       "      <td>19</td>\n",
       "      <td>179</td>\n",
       "      <td>0.5</td>\n",
       "      <td>[399.62000004015863, 323.3849999960512, 352.32...</td>\n",
       "      <td>[1937051.8499999307, 1937451.4699999709, 19377...</td>\n",
       "      <td>358.441667</td>\n",
       "    </tr>\n",
       "    <tr>\n",
       "      <th>179</th>\n",
       "      <td>19</td>\n",
       "      <td>180</td>\n",
       "      <td>0.5</td>\n",
       "      <td>[341.4450000273064, 322.4799999734387, 293.399...</td>\n",
       "      <td>[1942337.4649999896, 1942678.910000017, 194300...</td>\n",
       "      <td>319.108333</td>\n",
       "    </tr>\n",
       "  </tbody>\n",
       "</table>\n",
       "<p>180 rows × 6 columns</p>\n",
       "</div>"
      ],
      "text/plain": [
       "     screen  round  probability  \\\n",
       "0        19      1          NaN   \n",
       "1        19      2          0.9   \n",
       "2        19      3          NaN   \n",
       "3        19      4          0.9   \n",
       "4        19      5          0.9   \n",
       "..      ...    ...          ...   \n",
       "175      19    176          0.5   \n",
       "176      19    177          0.5   \n",
       "177      19    178          0.5   \n",
       "178      19    179          0.5   \n",
       "179      19    180          0.5   \n",
       "\n",
       "                                               timings  \\\n",
       "0    [577.919999952428, 469.48000008706003, 476.589...   \n",
       "1                                 [505.34500007051975]   \n",
       "2    [483.33000007551163, 407.84499992150813, 397.3...   \n",
       "3                                  [996.5699999593198]   \n",
       "4    [603.4399999771267, 401.77500003483146, 455.04...   \n",
       "..                                                 ...   \n",
       "175  [386.39999995939434, 367.35000007320195, 354.8...   \n",
       "176  [365.955000044778, 350.31999996863306, 293.905...   \n",
       "177  [354.97500002384186, 305.835000006482, 340.089...   \n",
       "178  [399.62000004015863, 323.3849999960512, 352.32...   \n",
       "179  [341.4450000273064, 322.4799999734387, 293.399...   \n",
       "\n",
       "                                            timestamps  meankeystrokeinterval  \n",
       "0    [983444.3500000052, 984022.2699999576, 984491....             507.996667  \n",
       "1                [996621.204999974, 997126.5500000445]             505.345000  \n",
       "2    [1007773.3399999561, 1008256.6700000316, 10086...             429.498333  \n",
       "3             [1023797.7950000204, 1024794.3649999797]             996.570000  \n",
       "4    [1031368.6699999962, 1031972.1099999733, 10323...             486.751667  \n",
       "..                                                 ...                    ...  \n",
       "175  [1923151.034999988, 1923537.4349999474, 192390...             369.545000  \n",
       "176  [1927767.0849999413, 1928133.039999986, 192848...             336.726667  \n",
       "177  [1932434.3599999556, 1932789.3349999795, 19330...             333.633333  \n",
       "178  [1937051.8499999307, 1937451.4699999709, 19377...             358.441667  \n",
       "179  [1942337.4649999896, 1942678.910000017, 194300...             319.108333  \n",
       "\n",
       "[180 rows x 6 columns]"
      ]
     },
     "metadata": {},
     "output_type": "display_data"
    }
   ],
   "source": [
    "# with pd.option_context(\"display.max_row\", None, \"display.max_columns\", None):\n",
    "display(timingdata)\n"
   ]
  },
  {
   "cell_type": "markdown",
   "metadata": {},
   "source": [
    "### Plot ###"
   ]
  },
  {
   "cell_type": "code",
   "execution_count": 13,
   "metadata": {},
   "outputs": [
    {
     "data": {
      "text/plain": [
       "[<matplotlib.lines.Line2D at 0x1535fda73a0>]"
      ]
     },
     "execution_count": 13,
     "metadata": {},
     "output_type": "execute_result"
    },
    {
     "data": {
      "image/png": "[encoded data removed]",
      "text/plain": [
       "<Figure size 432x288 with 1 Axes>"
      ]
     },
     "metadata": {
      "needs_background": "light"
     },
     "output_type": "display_data"
    }
   ],
   "source": [
    "timing_range = np.max(timingdata[\"meankeystrokeinterval\"]) - np.min(timingdata[\"meankeystrokeinterval\"])\n",
    "plt.plot(timingdata[\"round\"], timingdata[\"meankeystrokeinterval\"])\n",
    "\n",
    "plt.plot(timingdata[\"round\"], timingdata[\"probability\"]*timing_range)\n"
   ]
  },
  {
   "cell_type": "markdown",
   "metadata": {},
   "source": [
    "# Analysis Phase #\n"
   ]
  },
  {
   "cell_type": "code",
   "execution_count": null,
   "metadata": {},
   "outputs": [],
   "source": []
  },
  {
   "cell_type": "markdown",
   "metadata": {},
   "source": [
    "## Saving as CSV ##\n",
    "Since these are pandas dataframes, converting to csv format (or any other format supported by pandas) is trivial."
   ]
  },
  {
   "cell_type": "markdown",
   "metadata": {},
   "source": [
    "#### Interstroke key data ####"
   ]
  },
  {
   "cell_type": "code",
   "execution_count": 14,
   "metadata": {},
   "outputs": [],
   "source": [
    "# timingdata.to_csv('timingdata.csv')"
   ]
  },
  {
   "cell_type": "markdown",
   "metadata": {},
   "source": [
    "#### Probability Contingencies ####"
   ]
  },
  {
   "cell_type": "code",
   "execution_count": 15,
   "metadata": {},
   "outputs": [],
   "source": [
    "# roundResultDataFrame.to_csv('roundresults.csv')"
   ]
  },
  {
   "cell_type": "markdown",
   "metadata": {},
   "source": [
    "### Participant info ####"
   ]
  },
  {
   "cell_type": "code",
   "execution_count": 59,
   "metadata": {},
   "outputs": [],
   "source": [
    "young.to_excel(\"Young.xlsx\", header = False, index = False)\n",
    "old.to_excel(\"Old.xlsx\", header = False, index = False)\n",
    "parkinsons.to_excel(\"PD.xlsx\", header = False, index = False)\n"
   ]
  },
  {
   "cell_type": "markdown",
   "metadata": {},
   "source": [
    "For further support, contact Osama Shah oshah001@gold.ac.uk"
   ]
  },
  {
   "cell_type": "code",
   "execution_count": null,
   "metadata": {},
   "outputs": [],
   "source": []
  }
 ],
 "metadata": {
  "kernelspec": {
   "display_name": "Python 3",
   "language": "python",
   "name": "python3"
  },
  "language_info": {
   "codemirror_mode": {
    "name": "ipython",
    "version": 3
   },
   "file_extension": ".py",
   "mimetype": "text/x-python",
   "name": "python",
   "nbconvert_exporter": "python",
   "pygments_lexer": "ipython3",
   "version": "3.8.3"
  }
 },
 "nbformat": 4,
 "nbformat_minor": 4
}
